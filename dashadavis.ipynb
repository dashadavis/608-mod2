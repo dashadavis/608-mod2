{
 "cells": [
  {
   "cell_type": "code",
   "execution_count": 1,
   "id": "9fecc44a-b494-434c-911f-8105b806d07f",
   "metadata": {},
   "outputs": [],
   "source": [
    "grade = 85"
   ]
  },
  {
   "cell_type": "code",
   "execution_count": 2,
   "id": "7a9e049d-cc60-42e7-882e-ec4c5d3b5e0c",
   "metadata": {},
   "outputs": [
    {
     "name": "stdout",
     "output_type": "stream",
     "text": [
      "passed\n"
     ]
    }
   ],
   "source": [
    "if grade >= 60:\n",
    "    print('passed')\n",
    "else:\n",
    "    print('failed')"
   ]
  },
  {
   "cell_type": "code",
   "execution_count": 3,
   "id": "5a0a99ec-239f-405c-aafc-93b277e11cc0",
   "metadata": {},
   "outputs": [],
   "source": [
    "grade = 57"
   ]
  },
  {
   "cell_type": "code",
   "execution_count": 4,
   "id": "c9ccd062-1bd6-4e3d-a0e3-9bf27ec63c0c",
   "metadata": {},
   "outputs": [
    {
     "name": "stdout",
     "output_type": "stream",
     "text": [
      "failed\n"
     ]
    }
   ],
   "source": [
    "if grade >= 60:\n",
    "    print('passed')\n",
    "else:\n",
    "    print('failed')"
   ]
  },
  {
   "cell_type": "code",
   "execution_count": 5,
   "id": "f655db8a-8afc-45c8-ad76-5b93208f10f0",
   "metadata": {},
   "outputs": [],
   "source": [
    "grade = 99"
   ]
  },
  {
   "cell_type": "code",
   "execution_count": 6,
   "id": "85d699c0-349d-417b-b88f-e7157bf51c33",
   "metadata": {},
   "outputs": [
    {
     "name": "stdout",
     "output_type": "stream",
     "text": [
      "passed\n"
     ]
    }
   ],
   "source": [
    "if grade >= 60:\n",
    "    print('passed')\n",
    "else:\n",
    "    print('failed')"
   ]
  },
  {
   "cell_type": "code",
   "execution_count": 7,
   "id": "adc34bc7-027c-4afb-bbab-e0d630b491c2",
   "metadata": {},
   "outputs": [],
   "source": [
    "grade = 90"
   ]
  },
  {
   "cell_type": "code",
   "execution_count": 8,
   "id": "daf49208-49fa-4b67-853e-8d4849dabd09",
   "metadata": {},
   "outputs": [],
   "source": [
    "result = ('Passed' if grade >= 60 else 'Failed')"
   ]
  },
  {
   "cell_type": "code",
   "execution_count": 9,
   "id": "3964822d-1d1b-4ce1-a1c2-cfc4453a2277",
   "metadata": {},
   "outputs": [
    {
     "data": {
      "text/plain": [
       "'Passed'"
      ]
     },
     "execution_count": 9,
     "metadata": {},
     "output_type": "execute_result"
    }
   ],
   "source": [
    "result "
   ]
  },
  {
   "cell_type": "code",
   "execution_count": 10,
   "id": "c23f15cb-e6c5-40e8-a6d7-630f9e6f8d3a",
   "metadata": {},
   "outputs": [],
   "source": [
    "product = 7"
   ]
  },
  {
   "cell_type": "code",
   "execution_count": 11,
   "id": "ef9f895a-7543-45c1-8607-50d182b96ca1",
   "metadata": {},
   "outputs": [],
   "source": [
    "while product <= 1000:\n",
    "    product = product * 7"
   ]
  },
  {
   "cell_type": "code",
   "execution_count": 12,
   "id": "55adb35c-418c-4c95-b138-d90b9bedb306",
   "metadata": {},
   "outputs": [],
   "source": [
    "while (product <= 1000):\n",
    "    product = product * 7\n",
    "    print(product)"
   ]
  },
  {
   "cell_type": "code",
   "execution_count": 13,
   "id": "0f6aad14-000c-450c-a1fb-c0dccfb45ffb",
   "metadata": {},
   "outputs": [],
   "source": [
    "product = 7\n",
    "while product <= 1000:\n",
    "    product = product * 7"
   ]
  },
  {
   "cell_type": "code",
   "execution_count": 14,
   "id": "b294cb5e-2f94-47bf-a818-85948df22b9d",
   "metadata": {},
   "outputs": [
    {
     "data": {
      "text/plain": [
       "2401"
      ]
     },
     "execution_count": 14,
     "metadata": {},
     "output_type": "execute_result"
    }
   ],
   "source": [
    "product"
   ]
  },
  {
   "cell_type": "code",
   "execution_count": 15,
   "id": "822e179f-b7f9-4aa3-9fd0-60deafb83637",
   "metadata": {},
   "outputs": [],
   "source": [
    "total = 0\n",
    "for number in [2, -3, 0, 17, 9]:\n",
    "    total = total + number"
   ]
  },
  {
   "cell_type": "code",
   "execution_count": 16,
   "id": "2f81fb94-fbd4-459c-8342-fe522a6cd37a",
   "metadata": {},
   "outputs": [
    {
     "data": {
      "text/plain": [
       "25"
      ]
     },
     "execution_count": 16,
     "metadata": {},
     "output_type": "execute_result"
    }
   ],
   "source": [
    "total"
   ]
  },
  {
   "cell_type": "code",
   "execution_count": 17,
   "id": "03310135-2dda-4d1d-8636-7525f8c39b5e",
   "metadata": {},
   "outputs": [
    {
     "name": "stdout",
     "output_type": "stream",
     "text": [
      "0 1 2 3 4 5 6 7 8 9 "
     ]
    }
   ],
   "source": [
    "for counter in range(10):\n",
    "    print(counter, end=' ')"
   ]
  },
  {
   "cell_type": "code",
   "execution_count": 18,
   "id": "538300b7-ba03-4b11-ab92-07afa67ea63b",
   "metadata": {},
   "outputs": [],
   "source": [
    "total = 0\n",
    "for number in range(1000001):\n",
    "    total = total + number"
   ]
  },
  {
   "cell_type": "code",
   "execution_count": 19,
   "id": "e6640d3f-787c-4e1f-96b8-2f27466542cc",
   "metadata": {},
   "outputs": [
    {
     "data": {
      "text/plain": [
       "500000500000"
      ]
     },
     "execution_count": 19,
     "metadata": {},
     "output_type": "execute_result"
    }
   ],
   "source": [
    "total"
   ]
  },
  {
   "cell_type": "code",
   "execution_count": 20,
   "id": "1741b2d4-8a56-4291-8856-f99c476d7882",
   "metadata": {},
   "outputs": [],
   "source": [
    "x = 12\n",
    "x **=2"
   ]
  },
  {
   "cell_type": "code",
   "execution_count": 21,
   "id": "fba79c98-731e-44eb-88b3-ea97a30e39b6",
   "metadata": {},
   "outputs": [
    {
     "data": {
      "text/plain": [
       "144"
      ]
     },
     "execution_count": 21,
     "metadata": {},
     "output_type": "execute_result"
    }
   ],
   "source": [
    "x"
   ]
  },
  {
   "cell_type": "code",
   "execution_count": 22,
   "id": "d3e6937b-17ae-420c-b46e-c15ad3fd11b3",
   "metadata": {},
   "outputs": [
    {
     "name": "stdout",
     "output_type": "stream",
     "text": [
      "7 times 5 is 35\n"
     ]
    }
   ],
   "source": [
    "number1 = 7\n",
    "number2 = 5\n",
    "\n",
    "print(f'{number1} times {number2} is {number1 * number2}')\n"
   ]
  },
  {
   "cell_type": "code",
   "execution_count": 23,
   "id": "3d820420-9d34-483e-b664-4eca6dcfbf67",
   "metadata": {},
   "outputs": [],
   "source": [
    "total = 0\n",
    "for number in range(2, 101, 2):\n",
    "    total = total + number"
   ]
  },
  {
   "cell_type": "code",
   "execution_count": 24,
   "id": "a15447d9-c50c-4870-9d30-e53fad892fee",
   "metadata": {},
   "outputs": [
    {
     "data": {
      "text/plain": [
       "2550"
      ]
     },
     "execution_count": 24,
     "metadata": {},
     "output_type": "execute_result"
    }
   ],
   "source": [
    "total"
   ]
  },
  {
   "cell_type": "code",
   "execution_count": 25,
   "id": "b519c03f-a578-43e7-a8d4-7cec55555c0d",
   "metadata": {},
   "outputs": [
    {
     "name": "stdout",
     "output_type": "stream",
     "text": [
      "0 1 2 3 4 5 6 7 8 9 "
     ]
    }
   ],
   "source": [
    "for number in range(100):\n",
    "    if number == 10:\n",
    "        break\n",
    "    print(number, end=' ')"
   ]
  },
  {
   "cell_type": "code",
   "execution_count": 26,
   "id": "70b6af26-6dc6-448b-80d1-a08927ae6c15",
   "metadata": {},
   "outputs": [
    {
     "name": "stdout",
     "output_type": "stream",
     "text": [
      "0 1 2 3 4 6 7 8 9 "
     ]
    }
   ],
   "source": [
    "for number in range(10):\n",
    "    if number ==5:\n",
    "        continue\n",
    "    print(number, end=' ')"
   ]
  },
  {
   "cell_type": "code",
   "execution_count": 27,
   "id": "7b22cc46-ffc7-43af-8c3b-2c8ae46119e0",
   "metadata": {},
   "outputs": [
    {
     "data": {
      "text/plain": [
       "True"
      ]
     },
     "execution_count": 27,
     "metadata": {},
     "output_type": "execute_result"
    }
   ],
   "source": [
    "i = 1\n",
    "j = 2\n",
    "\n",
    "(i >= 1) and (j < 4)"
   ]
  },
  {
   "cell_type": "code",
   "execution_count": 28,
   "id": "a2a8dac7-aa14-44e9-bb7e-772c6e297329",
   "metadata": {},
   "outputs": [
    {
     "data": {
      "text/plain": [
       "True"
      ]
     },
     "execution_count": 28,
     "metadata": {},
     "output_type": "execute_result"
    }
   ],
   "source": [
    "i = 1\n",
    "j = 2\n",
    "\n",
    "(i >= 1) and (j < 4)"
   ]
  },
  {
   "cell_type": "code",
   "execution_count": 29,
   "id": "e7d56e28-1230-4a46-81d9-599e2e04e610",
   "metadata": {},
   "outputs": [
    {
     "data": {
      "text/plain": [
       "True"
      ]
     },
     "execution_count": 29,
     "metadata": {},
     "output_type": "execute_result"
    }
   ],
   "source": [
    "i = 1\n",
    "j = 2\n",
    "k = 3\n",
    "m = 2\n",
    "\n",
    "(k == m) or (j >= i)"
   ]
  },
  {
   "cell_type": "code",
   "execution_count": 30,
   "id": "42f26533-a994-4691-8e8f-fc51e10491bf",
   "metadata": {},
   "outputs": [
    {
     "data": {
      "text/plain": [
       "False"
      ]
     },
     "execution_count": 30,
     "metadata": {},
     "output_type": "execute_result"
    }
   ],
   "source": [
    "i = 1\n",
    "j = 2\n",
    "k = 3\n",
    "m = 2\n",
    "\n",
    "(k + m < j) or (3 - j >= k) "
   ]
  },
  {
   "cell_type": "code",
   "execution_count": 31,
   "id": "fb9aa56f-eeee-4938-a179-33747cd1b1c1",
   "metadata": {},
   "outputs": [
    {
     "data": {
      "text/plain": [
       "False"
      ]
     },
     "execution_count": 31,
     "metadata": {},
     "output_type": "execute_result"
    }
   ],
   "source": [
    "i = 1\n",
    "j = 2\n",
    "k = 3\n",
    "m = 2\n",
    "\n",
    "not (k > m)"
   ]
  },
  {
   "cell_type": "code",
   "execution_count": 32,
   "id": "562b204a-8e25-4269-8bc1-5e561d1870e4",
   "metadata": {},
   "outputs": [],
   "source": [
    "from statistics import mean, median, mode"
   ]
  },
  {
   "cell_type": "code",
   "execution_count": 33,
   "id": "e50bd206-8dc8-4a9c-af53-e7e401d35d10",
   "metadata": {},
   "outputs": [
    {
     "data": {
      "text/plain": [
       "79.4"
      ]
     },
     "execution_count": 33,
     "metadata": {},
     "output_type": "execute_result"
    }
   ],
   "source": [
    "grades = [85, 93, 45, 89, 85]\n",
    "sum(grades) / len(grades)"
   ]
  },
  {
   "cell_type": "code",
   "execution_count": 34,
   "id": "d6a386ce-87cb-4398-93cb-1fe74fe4faaf",
   "metadata": {},
   "outputs": [
    {
     "data": {
      "text/plain": [
       "79.4"
      ]
     },
     "execution_count": 34,
     "metadata": {},
     "output_type": "execute_result"
    }
   ],
   "source": [
    "grades = [85, 93, 45, 89, 85]\n",
    "sum(grades) / len(grades)"
   ]
  },
  {
   "cell_type": "code",
   "execution_count": 35,
   "id": "187c5af3-456f-47c4-831e-6c053595cce2",
   "metadata": {},
   "outputs": [],
   "source": [
    "import statistics"
   ]
  },
  {
   "cell_type": "code",
   "execution_count": 36,
   "id": "b172fb4c-5f10-4661-91a8-21fbe03acf90",
   "metadata": {},
   "outputs": [
    {
     "data": {
      "text/plain": [
       "6"
      ]
     },
     "execution_count": 36,
     "metadata": {},
     "output_type": "execute_result"
    }
   ],
   "source": [
    "grades = (47, 95, 88, 73, 88, 84)\n",
    "\n",
    "len(grades)"
   ]
  },
  {
   "cell_type": "code",
   "execution_count": 37,
   "id": "0f09e0ee-193f-49bf-912f-d5c2d1552b9d",
   "metadata": {},
   "outputs": [
    {
     "data": {
      "text/plain": [
       "475"
      ]
     },
     "execution_count": 37,
     "metadata": {},
     "output_type": "execute_result"
    }
   ],
   "source": [
    "grades = (47, 95, 88, 73, 88, 84)\n",
    "\n",
    "sum(grades)"
   ]
  },
  {
   "cell_type": "code",
   "execution_count": 38,
   "id": "7257daa9-34fc-476b-813d-191e3b8262c5",
   "metadata": {},
   "outputs": [
    {
     "data": {
      "text/plain": [
       "79.16666666666667"
      ]
     },
     "execution_count": 38,
     "metadata": {},
     "output_type": "execute_result"
    }
   ],
   "source": [
    "grades = (47, 95, 88, 73, 88, 84)\n",
    "\n",
    "mean = sum(grades) / len(grades)\n",
    "mean"
   ]
  },
  {
   "cell_type": "code",
   "execution_count": 39,
   "id": "540e2fc5-3717-4b33-b42c-c9db9e8e21d6",
   "metadata": {},
   "outputs": [
    {
     "data": {
      "text/plain": [
       "79.16666666666667"
      ]
     },
     "execution_count": 39,
     "metadata": {},
     "output_type": "execute_result"
    }
   ],
   "source": [
    "grades = (47, 95, 88, 73, 88, 84)\n",
    "\n",
    "mean = sum(grades) / len(grades)\n",
    "mean"
   ]
  },
  {
   "cell_type": "code",
   "execution_count": 40,
   "id": "43ad3090-18d1-4fed-ab03-8220d2314827",
   "metadata": {},
   "outputs": [
    {
     "data": {
      "text/plain": [
       "79.16666666666667"
      ]
     },
     "execution_count": 40,
     "metadata": {},
     "output_type": "execute_result"
    }
   ],
   "source": [
    "grades = (47, 95, 88, 73, 88, 84)\n",
    "\n",
    "mean = sum(grades) / len(grades)\n",
    "mean"
   ]
  },
  {
   "cell_type": "code",
   "execution_count": 41,
   "id": "d320ddae-d4a8-477d-99b0-dbc21768c4f8",
   "metadata": {},
   "outputs": [],
   "source": [
    "import statistics"
   ]
  },
  {
   "cell_type": "code",
   "execution_count": 42,
   "id": "0d887d83-276d-44c3-a239-289214a162a3",
   "metadata": {},
   "outputs": [
    {
     "data": {
      "text/plain": [
       "79.4"
      ]
     },
     "execution_count": 42,
     "metadata": {},
     "output_type": "execute_result"
    }
   ],
   "source": [
    "grades = [85, 93, 45, 89, 85]\n",
    "\n",
    "statistics.mean(grades)"
   ]
  },
  {
   "cell_type": "code",
   "execution_count": 43,
   "id": "13e178f6-3278-4fed-9435-fb14941955ea",
   "metadata": {},
   "outputs": [
    {
     "data": {
      "text/plain": [
       "85"
      ]
     },
     "execution_count": 43,
     "metadata": {},
     "output_type": "execute_result"
    }
   ],
   "source": [
    "grades = [85, 93, 45, 89, 85]\n",
    "\n",
    "statistics.median(grades)"
   ]
  },
  {
   "cell_type": "code",
   "execution_count": 44,
   "id": "23dcff79-5e7b-448e-ab33-190dd00e1e34",
   "metadata": {},
   "outputs": [
    {
     "data": {
      "text/plain": [
       "85"
      ]
     },
     "execution_count": 44,
     "metadata": {},
     "output_type": "execute_result"
    }
   ],
   "source": [
    "grades = [85, 93, 45, 89, 85]\n",
    "\n",
    "statistics.mode(grades)"
   ]
  },
  {
   "cell_type": "code",
   "execution_count": 45,
   "id": "142848aa-e09f-48ad-a8b1-fbfa90b8f95c",
   "metadata": {},
   "outputs": [
    {
     "data": {
      "text/plain": [
       "9"
      ]
     },
     "execution_count": 45,
     "metadata": {},
     "output_type": "execute_result"
    }
   ],
   "source": [
    "grades = [45, 68, 47, 90, 40, 220, 26, 94, 96]\n",
    "\n",
    "len(grades)"
   ]
  },
  {
   "cell_type": "code",
   "execution_count": 46,
   "id": "e28301cc-25e5-418d-871a-cc03f604a367",
   "metadata": {},
   "outputs": [
    {
     "data": {
      "text/plain": [
       "726"
      ]
     },
     "execution_count": 46,
     "metadata": {},
     "output_type": "execute_result"
    }
   ],
   "source": [
    "grades = [45, 68, 47, 90, 40, 220, 26, 94, 96]\n",
    "\n",
    "sum(grades)"
   ]
  },
  {
   "cell_type": "code",
   "execution_count": 47,
   "id": "a083ceff-3853-4f84-acba-812186149106",
   "metadata": {},
   "outputs": [
    {
     "data": {
      "text/plain": [
       "80.66666666666667"
      ]
     },
     "execution_count": 47,
     "metadata": {},
     "output_type": "execute_result"
    }
   ],
   "source": [
    "grades = [45, 68, 47, 90, 40, 220, 26, 94, 96]\n",
    "\n",
    "statistics.mean(grades)"
   ]
  },
  {
   "cell_type": "code",
   "execution_count": 48,
   "id": "4714a5a5-e9a2-413c-9513-ba61531b49be",
   "metadata": {},
   "outputs": [
    {
     "data": {
      "text/plain": [
       "68"
      ]
     },
     "execution_count": 48,
     "metadata": {},
     "output_type": "execute_result"
    }
   ],
   "source": [
    "grades = [45, 68, 47, 90, 40, 220, 26, 94, 96]\n",
    "\n",
    "statistics.median(grades)"
   ]
  },
  {
   "cell_type": "code",
   "execution_count": 49,
   "id": "b53aecc1-1554-44e4-9b22-5ceb3b8f18fc",
   "metadata": {},
   "outputs": [
    {
     "data": {
      "text/plain": [
       "47"
      ]
     },
     "execution_count": 49,
     "metadata": {},
     "output_type": "execute_result"
    }
   ],
   "source": [
    "grades = [45, 68, 47, 90, 40, 220, 47, 94, 96]\n",
    "\n",
    "statistics.mode(grades)"
   ]
  }
 ],
 "metadata": {
  "kernelspec": {
   "display_name": "Python 3 (ipykernel)",
   "language": "python",
   "name": "python3"
  },
  "language_info": {
   "codemirror_mode": {
    "name": "ipython",
    "version": 3
   },
   "file_extension": ".py",
   "mimetype": "text/x-python",
   "name": "python",
   "nbconvert_exporter": "python",
   "pygments_lexer": "ipython3",
   "version": "3.9.12"
  },
  "toc-autonumbering": true
 },
 "nbformat": 4,
 "nbformat_minor": 5
}
